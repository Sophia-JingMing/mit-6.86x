{
  "nbformat": 4,
  "nbformat_minor": 0,
  "metadata": {
    "colab": {
      "name": " MIT 6.86x_HW1_charlotte.ipynb",
      "provenance": [],
      "collapsed_sections": [],
      "include_colab_link": true
    },
    "kernelspec": {
      "name": "python3",
      "display_name": "Python 3"
    }
  },
  "cells": [
    {
      "cell_type": "markdown",
      "metadata": {
        "id": "view-in-github",
        "colab_type": "text"
      },
      "source": [
        "<a href=\"https://colab.research.google.com/github/Sophia-JingMing/mit-6.86x/blob/feature/homeworks/homework%201.ipynb\" target=\"_parent\"><img src=\"https://colab.research.google.com/assets/colab-badge.svg\" alt=\"Open In Colab\"/></a>"
      ]
    },
    {
      "cell_type": "markdown",
      "metadata": {
        "id": "d6tGpYtc6asY"
      },
      "source": [
        "# Packages and libraries"
      ]
    },
    {
      "cell_type": "code",
      "metadata": {
        "id": "BAQaKOFS6pMs"
      },
      "source": [
        "import numpy as np\n",
        "from itertools import chain\n",
        "import matplotlib.pyplot as plt"
      ],
      "execution_count": null,
      "outputs": []
    },
    {
      "cell_type": "markdown",
      "metadata": {
        "id": "YqivUh0CavL7"
      },
      "source": [
        "Assume:\n",
        "-There exits $\\theta^{*}$ such that $\\frac {y^{i}(\\theta^{*}x^{i})} {\\left\\|\\theta^{*}\\right\\|} \\geq \\gamma $ for all $i = 1, ...n $ and some $\\gamma > 0$\n",
        "- All the examples are bounded $\\left\\|x^{i}\\right\\| \\leq R, i = 1, ..., n$\n",
        "\n",
        "Then the number $k$ of updates mabe by the perceptron algorithm is bounded by $\\frac {R^{2}}{\\gamma^{2}}$.\n",
        "\n",
        "Note that the first condition implies that the data is linearly separable.\n",
        "\n",
        "Based on this theorem, what are the factors that constitute the bound on the number of mistakes made by the algorithm?\n",
        "\n",
        "\n",
        "A. Iteration order\n",
        "\n",
        "B. Maximum margin between positive and negative data points\n",
        "\n",
        "C. Maximum norm of data points\n",
        "\n",
        "D. Average norm of data points"
      ]
    },
    {
      "cell_type": "markdown",
      "metadata": {
        "id": "t8DoUAdW4prA"
      },
      "source": [
        "# 1. Perceptron Mistakes\n",
        "In this problem, we will investigate perceptron algorithm with different iteration ordering.\n",
        "\n",
        "Consider applying the perceptron algorithm through the origin based on a small training set containing three points:\n",
        "\n",
        "\n",
        "x|y\n",
        "---|---\n",
        "x(1)  =[-1,-1]|\t y(1) =1  \n",
        "x(2)  =[1,0]|\t y(2) =-1  \n",
        "x(3)  =[-1, 1.5]|\t y(3) =1\n",
        "\n",
        "Given that the algorithm starts with  $\\theta _{0}$=0 , the first point that the algorithm sees is always considered a mistake. The algorithm starts with some data point and then cycles through the data (in order) until it makes no further mistakes.  \n"
      ]
    },
    {
      "cell_type": "markdown",
      "metadata": {
        "id": "028diqXjEIDH"
      },
      "source": [
        "(a)  \n",
        "4 points possible (graded)  \n",
        "How many mistakes does the algorithm make until convergence if the algorithm starts with data point $x_{1}$? How many mistakes does the algorithm make if it starts with data point $x_{2}$)?  \n",
        "\n",
        "Also provide the progression of the separating plane as the algorithm cycles in the following format: [[$\\theta_{1}1$, $\\theta_{1}2$],…,[$\\theta_{N}$)1, $\\theta_{N}$2]], where the superscript denotes different theta as the separating plane progresses. For example, if $\\theta$ progress from [0, 0] (initialization) to [1, 2] to [3, −2], you should enter [[1, 2],[3, −2]]  \n",
        "\n"
      ]
    },
    {
      "cell_type": "code",
      "metadata": {
        "id": "k6nVB_xYJNjQ",
        "colab": {
          "base_uri": "https://localhost:8080/"
        },
        "outputId": "73f32c8a-8d86-4068-b31b-5b0fdbe99a08"
      },
      "source": [
        "def perceptron (x, y, theta = np.zeros(2),theta_0 = 0, start = 0) :\n",
        "    '''return the number of mistakes if start with x[start] until convergence'''\n",
        "    count = 0\n",
        "    theta_list = []\n",
        "    while True:\n",
        "        converged = True \n",
        "        for i in chain (range(start, x.shape[0]), range(start)): \n",
        "            if y[i] * (theta @ x[i]+ theta_0) <=0: \n",
        "                count +=1\n",
        "                theta += y[i] * x[i]\n",
        "                theta_0 += y[i]\n",
        "                theta_list.append(theta)\n",
        "                converged = False \n",
        "        if converged:\n",
        "            break\n",
        "    return theta_list,  count \n",
        "x = np.array([[-1, -1], [1, 0], [-1, 1.5]])\n",
        "y = np.array([1, -1, 1])\n",
        "print(perceptron(x, y, theta = np.zeros(2),theta_0 = 0, start = 0))\n",
        "perceptron(x, y, theta = np.zeros(2),theta_0 = 0, start = 1)"
      ],
      "execution_count": null,
      "outputs": [
        {
          "output_type": "stream",
          "text": [
            "([array([-2., -1.]), array([-2., -1.])], 2)\n"
          ],
          "name": "stdout"
        },
        {
          "output_type": "execute_result",
          "data": {
            "text/plain": [
              "([array([-2. ,  1.5]), array([-2. ,  1.5])], 2)"
            ]
          },
          "metadata": {
            "tags": []
          },
          "execution_count": 78
        }
      ]
    },
    {
      "cell_type": "markdown",
      "metadata": {
        "id": "ytbhOv5rLmZq"
      },
      "source": [
        "(c)  \n",
        "4 points possible (graded)  \n",
        "Now assume that x(3)=[−1,10]. How many mistakes does the algorithm make until convergence if cycling starts with data point x(1)?  \n",
        "\n",
        "Also provide the progression of the separating plane as the algorithm cycles in the following format: [[θ(1)1,θ(1)2],…,[θ(N)1,θ(N)2]], where the superscript denotes different theta as the separating plane progresses.  \n"
      ]
    },
    {
      "cell_type": "code",
      "metadata": {
        "id": "TY7idBA4LrQb",
        "colab": {
          "base_uri": "https://localhost:8080/"
        },
        "outputId": "1beaea5b-11dc-4cae-e99d-b6b24d16adee"
      },
      "source": [
        "x2 = np.array([[-1,-1], [1,0], [-1, 10]])\n",
        "y2 = np.array([1, -1, 1])\n",
        "print(perceptron(x2, y2))\n",
        "print(perceptron(x2, y2, start=1))"
      ],
      "execution_count": null,
      "outputs": [
        {
          "output_type": "stream",
          "text": [
            "([array([-5.,  7.]), array([-5.,  7.]), array([-5.,  7.]), array([-5.,  7.]), array([-5.,  7.])], 5)\n",
            "([array([-6.,  6.])], 1)\n"
          ],
          "name": "stdout"
        }
      ]
    },
    {
      "cell_type": "markdown",
      "metadata": {
        "id": "dhOoT7qzM1Yk"
      },
      "source": [
        "(d)  \n",
        "1 point possible (graded)  \n",
        "For a fixed iteration order, what are the factors that affect the number of mistakes made by the algorithm between part (a) and part (c)?  \n",
        "\n",
        "Note: Only choose factors that were changed between part (a) and part (c), not all factors that can affect the number of mistakes  \n"
      ]
    },
    {
      "cell_type": "code",
      "metadata": {
        "id": "DIc2fvDfM54J",
        "colab": {
          "base_uri": "https://localhost:8080/",
          "height": 282
        },
        "outputId": "10179e77-e5e4-45b5-f6dc-c240da598c69"
      },
      "source": [
        "plt.scatter(x[:, 0], x[:, 1], color = 'r', marker = '^')\n",
        "plt.scatter(x2[:, 0], x2[:, 1], color = 'b', alpha = .4)"
      ],
      "execution_count": null,
      "outputs": [
        {
          "output_type": "execute_result",
          "data": {
            "text/plain": [
              "<matplotlib.collections.PathCollection at 0x7f665bfbf550>"
            ]
          },
          "metadata": {
            "tags": []
          },
          "execution_count": 80
        },
        {
          "output_type": "display_data",
          "data": {
            "image/png": "[encoded data removed]",
            "text/plain": [
              "<Figure size 432x288 with 1 Axes>"
            ]
          },
          "metadata": {
            "tags": [],
            "needs_background": "light"
          }
        }
      ]
    },
    {
      "cell_type": "markdown",
      "metadata": {
        "id": "ZQyPJ3BDTSuM"
      },
      "source": [
        "# 2. Perceptron Performance\n"
      ]
    },
    {
      "cell_type": "markdown",
      "metadata": {
        "id": "2Oadzxk4TsqV"
      },
      "source": [
        "(a)  \n",
        "2 points possible (graded)  \n",
        "The following table shows a data set and the number of times each point is misclassified during a run of the perceptron algorithm (with offset θ0). θ and θ0 are initialized to zero.  \n",
        "\n",
        "i\tx(i)\ty(i)\ttimes misclassified  \n",
        "1\t[-4, 2]\t+1\t1  \n",
        "2\t[-2, 1]\t+1\t0  \n",
        "3\t[-1, -1]\t-1\t2  \n",
        "4\t[2, 2]\t-1\t1  \n",
        "5\t[1, -2]\t-1\t0  \n",
        "Write down the state of θ and θ0 after this run has completed (note, the algorithm may not yet have converged). Enter θ as a list [θ1,θ2] and θ0 as a single number in the following boxes.  \n"
      ]
    },
    {
      "cell_type": "code",
      "metadata": {
        "id": "yxsUTvOxTzuf",
        "colab": {
          "base_uri": "https://localhost:8080/"
        },
        "outputId": "f13c5c3d-5047-4ec8-de8a-55e7b7e62683"
      },
      "source": [
        "def misclassify(x, y, theta):\n",
        "    \"\"\"\n",
        "    Decision boundary: wx(i) = 0\n",
        "    w: if None, initialize to 0\n",
        "    \"\"\"\n",
        "    \n",
        "    theta_0 = 0\n",
        "    mistakes = []\n",
        "    while True:\n",
        "        converged = True\n",
        "        for i in range (x.shape[0]):\n",
        "            if y[i] * (theta @ x[i] + theta_0) <= 0:\n",
        "                theta += y[i] * x[i]\n",
        "                theta_0 += y[i]\n",
        "                mistakes.append(theta)\n",
        "                converged = False \n",
        "        if converged :\n",
        "            break \n",
        "    return mistakes, theta_0\n",
        "x3 = np.array([[-4, 2], [-2, 1], [-1, -1], [2, 2], [1, -2]])\n",
        "y3 = np.array([1, 1, -1, -1, -1])\n",
        "mistakes, weights = misclassify(x3, y3, theta = np.zeros (2))\n",
        "print(mistakes)\n",
        "print(weights)"
      ],
      "execution_count": null,
      "outputs": [
        {
          "output_type": "stream",
          "text": [
            "[array([-3.,  3.]), array([-3.,  3.]), array([-3.,  3.]), array([-3.,  3.]), array([-3.,  3.])]\n",
            "-3\n"
          ],
          "name": "stdout"
        }
      ]
    },
    {
      "cell_type": "markdown",
      "metadata": {
        "id": "coRKqyWFob0S"
      },
      "source": [
        "(b)  \n",
        "2 points possible (graded)  \n",
        "Provide one example of a different initialization of θ such that the perceptron algorithm with this initialization would not produce any mistakes during a run through the data.  \n"
      ]
    },
    {
      "cell_type": "code",
      "metadata": {
        "id": "oPdUx3eUoe6v",
        "colab": {
          "base_uri": "https://localhost:8080/"
        },
        "outputId": "5e13c8b2-ce3f-4e95-d45d-8f5445efa1ef"
      },
      "source": [
        "interval = range(-10, 11)\n",
        "theta_try\n",
        "for i in interval:\n",
        "    for j in range(len(interval)):\n",
        "        theta_try.append(np.array([i, interval[j]]))\n",
        "theta_try\n",
        "\n",
        "def idea_init(theta_list):\n",
        "    for i in range(len(theta_list)):\n",
        "        current_theta = theta_list[i]\n",
        "        if y[i] * (current_theta @ x[i]) <= 0:\n",
        "            continue\n",
        "        return current_theta\n",
        "idea_init(theta_try)"
      ],
      "execution_count": null,
      "outputs": [
        {
          "output_type": "execute_result",
          "data": {
            "text/plain": [
              "array([-10, -10])"
            ]
          },
          "metadata": {
            "tags": []
          },
          "execution_count": 86
        }
      ]
    }
  ]
}