{
  "nbformat": 4,
  "nbformat_minor": 0,
  "metadata": {
    "colab": {
      "name": "Homework 2.ipynb",
      "provenance": [],
      "toc_visible": true,
      "authorship_tag": "ABX9TyP6clTtVC+lIUbYREgkonVc",
      "include_colab_link": true
    },
    "kernelspec": {
      "name": "python3",
      "display_name": "Python 3"
    },
    "language_info": {
      "name": "python"
    }
  },
  "cells": [
    {
      "cell_type": "markdown",
      "metadata": {
        "id": "view-in-github",
        "colab_type": "text"
      },
      "source": [
        "<a href=\"https://colab.research.google.com/github/Sophia-JingMing/mit-6.86x/blob/main/Homework_2.ipynb\" target=\"_parent\"><img src=\"https://colab.research.google.com/assets/colab-badge.svg\" alt=\"Open In Colab\"/></a>"
      ]
    },
    {
      "cell_type": "markdown",
      "metadata": {
        "id": "hoTa02MGPQ5M"
      },
      "source": [
        "#Packages and libraries\n"
      ]
    },
    {
      "cell_type": "code",
      "metadata": {
        "id": "glikrqDbO_9-"
      },
      "source": [
        "import numpy as np\n",
        "from itertools import chain\n",
        "import matplotlib.pyplot as plt"
      ],
      "execution_count": 1,
      "outputs": []
    },
    {
      "cell_type": "markdown",
      "metadata": {
        "id": "m5fOpV2iPluj"
      },
      "source": [
        "#Perceptron update#\n",
        "In this problem, we will try to undertand the convergence of perceptron algorithm and its relation to the ordering of the training samples for the following simple example.\n",
        "Consider a set of n=d labeled d-dimensional feature vectors, {x(t), y(t)), t=1, ...,d) defined as follows:\n",
        "x \n",
        "\n",
        "```\n",
        "x(t)i \t = \t cos(πt)ifi=t \t \t(3.7)\n",
        "x(t)i \t = \t 0otherwise, \t \t(3.8)\n",
        "```\n",
        "Recall the no offset perceptron algorithm, and assume that θ⋅x=0 is treated as a mistake, regardless of label. assume that in all of the following problems, we initialize θ=0 and when we refer to the perceptron algorithm we only consider the no offset variant of it.\n",
        "\n"
      ]
    },
    {
      "cell_type": "markdown",
      "metadata": {
        "id": "3_cX_OAjRjZZ"
      },
      "source": [
        "#Working out Perceptron algorithm\n",
        "3 points possible (graded)\n",
        "Consider tthe d=2 case. Let y(1) = 1, y(2) = 1. Assume that the feature vector x(1) is presented to the perceptron algorithm before x(2).\n",
        "For this particular assignment of labels, work out the perceptron algorithm until convergence.\n",
        "Let θ^ be the resulting θ value after convergece. Note that for d=2, θ^ would be a 2 dimensional vector. Let's denote the first and second components of θ^ by θ^1 and θ^2 respectively."
      ]
    },
    {
      "cell_type": "code",
      "metadata": {
        "id": "59e-vvN3PjKZ"
      },
      "source": [
        "def perceptron (x, y, w= None, fixed_offset = False, iters = 1000):\n",
        "  \"\"\"Decision boundary : wx(i) = 0 (including offset)\n",
        "  w: if None, initialize to 0\n",
        "  fixed_offset: if True, not update offset \"\"\"\n",
        "  "
      ],
      "execution_count": null,
      "outputs": []
    }
  ]
}
